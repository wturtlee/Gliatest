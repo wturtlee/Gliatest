{
 "cells": [
  {
   "cell_type": "code",
   "execution_count": 1,
   "id": "053e18f2-16bd-4e72-b986-32b7ff3e65b3",
   "metadata": {},
   "outputs": [
    {
     "name": "stdout",
     "output_type": "stream",
     "text": [
      "/bbs/LoL/M.1710078520.A.753.html [閒聊] LOL最著名的放送事故是什麼？\n",
      "/bbs/LoL/M.1710078895.A.B8D.html [情報] LCK下週開始直播進行(播出時間調整)\n",
      "/bbs/LoL/M.1710080302.A.4D5.html Re: [閒聊] 現在的台服風氣是有史以來最差的嗎？\n",
      "/bbs/LoL/M.1710081678.A.6D9.html [閒聊] 職業場有發生過雙方同時被滅團嗎?\n",
      "/bbs/LoL/M.1710084320.A.4B3.html [實況] CFO Shunn/apeoal\n",
      "/bbs/LoL/M.1710085072.A.84F.html [閒聊] 是不是還好咪咪蛋沒有加入HKE\n",
      "/bbs/LoL/M.1710085255.A.7E9.html [電競] 2024 LEC Spring W1D2\n",
      "/bbs/LoL/M.1710086197.A.A19.html [閒聊] 同人圖分享-伊芙琳.關\n",
      "/bbs/LoL/M.1710086284.A.626.html [公告] LoL 板 開始舉辦樂透!\n",
      "/bbs/LoL/M.1710087505.A.15E.html [閒聊] PCS新企劃 我有我的MAIN\n",
      "/bbs/LoL/M.1710087770.A.2B7.html [閒聊] 台服風氣變成這樣怎麼造成的？\n",
      "/bbs/LoL/M.1710088448.A.E15.html [心得] 賽恩大招、實驗型海克斯板甲的互動BUG\n",
      "/bbs/LoL/M.1710091832.A.041.html [閒聊] 龍珠當年有多強？\n",
      "/bbs/LoL/M.1710095081.A.0C4.html [電競] 2024 LCS Spring W6D3\n",
      "/bbs/LoL/M.1710117919.A.4AB.html [公告] LoL 樂透開獎\n",
      "/bbs/LoL/M.1710125745.A.767.html [閒聊] 希格斯的故事是不是值得掌聲？\n",
      "/bbs/LoL/M.1710126741.A.A4A.html [閒聊] 按鍵U 和玩家擊拳交碰的設計概念怎來的?\n",
      "/bbs/LoL/M.1710127072.A.0AE.html [閒聊] 亂放預示者亂開車的JG能檢舉嗎？\n",
      "/bbs/LoL/M.1710129657.A.16C.html [閒聊] 歪嘴犽宿宣布要東山在起了，目前在美團\n",
      "/bbs/LoL/M.1710131423.A.F52.html [閒聊] 卡薩丁Q目前無法打斷艾妮維亞R\n"
     ]
    }
   ],
   "source": [
    "import requests\n",
    "from bs4 import BeautifulSoup\n",
    "\n",
    "r = requests.get(\"https://www.ptt.cc/bbs/LoL/index15002.html\")\n",
    "soup = BeautifulSoup(r.text,\"html.parser\")\n",
    "sel = soup.select(\"div.title a\")\n",
    "for s in sel:\n",
    "    print(s[\"href\"], s.text)"
   ]
  },
  {
   "cell_type": "code",
   "execution_count": null,
   "id": "4fe6a698-bb70-40ef-a7bb-9d39d1f49c4c",
   "metadata": {},
   "outputs": [],
   "source": []
  }
 ],
 "metadata": {
  "kernelspec": {
   "display_name": "Python 3 (ipykernel)",
   "language": "python",
   "name": "python3"
  },
  "language_info": {
   "codemirror_mode": {
    "name": "ipython",
    "version": 3
   },
   "file_extension": ".py",
   "mimetype": "text/x-python",
   "name": "python",
   "nbconvert_exporter": "python",
   "pygments_lexer": "ipython3",
   "version": "3.11.1"
  }
 },
 "nbformat": 4,
 "nbformat_minor": 5
}
